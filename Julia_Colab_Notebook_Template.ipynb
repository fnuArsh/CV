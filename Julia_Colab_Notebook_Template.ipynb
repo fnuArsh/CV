{
  "nbformat": 4,
  "nbformat_minor": 0,
  "metadata": {
    "colab": {
      "provenance": [],
      "gpuType": "T4",
      "include_colab_link": true
    },
    "kernelspec": {
      "display_name": "Julia",
      "language": "julia",
      "name": "julia"
    },
    "language_info": {
      "file_extension": ".jl",
      "mimetype": "application/julia",
      "name": "julia"
    },
    "accelerator": "GPU"
  },
  "cells": [
    {
      "cell_type": "markdown",
      "metadata": {
        "id": "view-in-github",
        "colab_type": "text"
      },
      "source": [
        "<a href=\"https://colab.research.google.com/github/fnuArsh/CV/blob/main/Julia_Colab_Notebook_Template.ipynb\" target=\"_parent\"><img src=\"https://colab.research.google.com/assets/colab-badge.svg\" alt=\"Open In Colab\"/></a>"
      ]
    },
    {
      "cell_type": "markdown",
      "metadata": {
        "id": "tQ1r1bbb0yBv"
      },
      "source": [
        "# <img src=\"https://github.com/JuliaLang/julia-logo-graphics/raw/master/images/julia-logo-color.png\" height=\"100\" /> _Colab Notebook Template_\n",
        "\n",
        "## Instructions\n",
        "1. Work on a copy of this notebook: _File_ > _Save a copy in Drive_ (you will need a Google account). Alternatively, you can download the notebook using _File_ > _Download .ipynb_, then upload it to [Colab](https://colab.research.google.com/).\n",
        "2. If you need a GPU: _Runtime_ > _Change runtime type_ > _Harware accelerator_ = _GPU_.\n",
        "3. Execute the following cell (click on it and press Ctrl+Enter) to install Julia, IJulia and other packages (if needed, update `JULIA_VERSION` and the other parameters). This takes a couple of minutes.\n",
        "4. Reload this page (press Ctrl+R, or ⌘+R, or the F5 key) and continue to the next section.\n",
        "\n",
        "_Notes_:\n",
        "* If your Colab Runtime gets reset (e.g., due to inactivity), repeat steps 2, 3 and 4.\n",
        "* After installation, if you want to change the Julia version or activate/deactivate the GPU, you will need to reset the Runtime: _Runtime_ > _Factory reset runtime_ and repeat steps 3 and 4."
      ]
    },
    {
      "cell_type": "code",
      "metadata": {
        "id": "GIeFXS0F0zww",
        "colab": {
          "base_uri": "https://localhost:8080/"
        },
        "outputId": "e78d35fc-0824-421a-84f9-587ba6675c0a"
      },
      "source": [
        "%%shell\n",
        "set -e\n",
        "\n",
        "#---------------------------------------------------#\n",
        "JULIA_VERSION=\"1.8.2\" # any version ≥ 0.7.0\n",
        "JULIA_PACKAGES=\"IJulia BenchmarkTools\"\n",
        "JULIA_PACKAGES_IF_GPU=\"CUDA\" # or CuArrays for older Julia versions\n",
        "JULIA_NUM_THREADS=2\n",
        "#---------------------------------------------------#\n",
        "\n",
        "if [ -z `which julia` ]; then\n",
        "  # Install Julia\n",
        "  JULIA_VER=`cut -d '.' -f -2 <<< \"$JULIA_VERSION\"`\n",
        "  echo \"Installing Julia $JULIA_VERSION on the current Colab Runtime...\"\n",
        "  BASE_URL=\"https://julialang-s3.julialang.org/bin/linux/x64\"\n",
        "  URL=\"$BASE_URL/$JULIA_VER/julia-$JULIA_VERSION-linux-x86_64.tar.gz\"\n",
        "  wget -nv $URL -O /tmp/julia.tar.gz # -nv means \"not verbose\"\n",
        "  tar -x -f /tmp/julia.tar.gz -C /usr/local --strip-components 1\n",
        "  rm /tmp/julia.tar.gz\n",
        "\n",
        "  # Install Packages\n",
        "  nvidia-smi -L &> /dev/null && export GPU=1 || export GPU=0\n",
        "  if [ $GPU -eq 1 ]; then\n",
        "    JULIA_PACKAGES=\"$JULIA_PACKAGES $JULIA_PACKAGES_IF_GPU\"\n",
        "  fi\n",
        "  for PKG in `echo $JULIA_PACKAGES`; do\n",
        "    echo \"Installing Julia package $PKG...\"\n",
        "    julia -e 'using Pkg; pkg\"add '$PKG'; precompile;\"' &> /dev/null\n",
        "  done\n",
        "\n",
        "  # Install kernel and rename it to \"julia\"\n",
        "  echo \"Installing IJulia kernel...\"\n",
        "  julia -e 'using IJulia; IJulia.installkernel(\"julia\", env=Dict(\n",
        "      \"JULIA_NUM_THREADS\"=>\"'\"$JULIA_NUM_THREADS\"'\"))'\n",
        "  KERNEL_DIR=`julia -e \"using IJulia; print(IJulia.kerneldir())\"`\n",
        "  KERNEL_NAME=`ls -d \"$KERNEL_DIR\"/julia*`\n",
        "  mv -f $KERNEL_NAME \"$KERNEL_DIR\"/julia\n",
        "\n",
        "  echo ''\n",
        "  echo \"Successfully installed `julia -v`!\"\n",
        "  echo \"Please reload this page (press Ctrl+R, ⌘+R, or the F5 key) then\"\n",
        "  echo \"jump to the 'Checking the Installation' section.\"\n",
        "fi"
      ],
      "execution_count": null,
      "outputs": [
        {
          "output_type": "stream",
          "name": "stdout",
          "text": [
            "Installing Julia 1.8.2 on the current Colab Runtime...\n",
            "2025-02-27 12:50:53 URL:https://julialang-s3.julialang.org/bin/linux/x64/1.8/julia-1.8.2-linux-x86_64.tar.gz [135859273/135859273] -> \"/tmp/julia.tar.gz\" [1]\n",
            "Installing Julia package IJulia...\n",
            "Installing Julia package BenchmarkTools...\n",
            "Installing Julia package CUDA...\n"
          ]
        }
      ]
    },
    {
      "cell_type": "markdown",
      "metadata": {
        "id": "-OS3Ac017T1i"
      },
      "source": [
        "# Checking the Installation\n",
        "The `versioninfo()` function should print your Julia version and some other info about the system:"
      ]
    },
    {
      "cell_type": "code",
      "metadata": {
        "id": "EEzvvzCl1i0F",
        "colab": {
          "base_uri": "https://localhost:8080/",
          "height": 135
        },
        "outputId": "85eff874-d3bd-4b67-cd46-5332b8c126e8"
      },
      "source": [
        "versioninfo()"
      ],
      "execution_count": 5,
      "outputs": [
        {
          "output_type": "error",
          "ename": "NameError",
          "evalue": "name 'versioninfo' is not defined",
          "traceback": [
            "\u001b[0;31m---------------------------------------------------------------------------\u001b[0m",
            "\u001b[0;31mNameError\u001b[0m                                 Traceback (most recent call last)",
            "\u001b[0;32m<ipython-input-5-a67619e8ecad>\u001b[0m in \u001b[0;36m<cell line: 0>\u001b[0;34m()\u001b[0m\n\u001b[0;32m----> 1\u001b[0;31m \u001b[0mversioninfo\u001b[0m\u001b[0;34m(\u001b[0m\u001b[0;34m)\u001b[0m\u001b[0;34m\u001b[0m\u001b[0;34m\u001b[0m\u001b[0m\n\u001b[0m",
            "\u001b[0;31mNameError\u001b[0m: name 'versioninfo' is not defined"
          ]
        }
      ]
    },
    {
      "cell_type": "code",
      "source": [
        "using BenchmarkTools\n",
        "\n",
        "M = rand(2^11, 2^11)\n",
        "\n",
        "@btime $M * $M;"
      ],
      "metadata": {
        "colab": {
          "base_uri": "https://localhost:8080/"
        },
        "id": "YjM_qq54lCcs",
        "outputId": "c1edbc8a-ed7d-491d-d1ce-c48ea438f2c1"
      },
      "execution_count": 2,
      "outputs": [
        {
          "output_type": "stream",
          "name": "stdout",
          "text": [
            "  404.042 ms (2 allocations: 32.00 MiB)\n"
          ]
        }
      ]
    },
    {
      "cell_type": "code",
      "metadata": {
        "id": "XciCcMAJOT3_",
        "colab": {
          "base_uri": "https://localhost:8080/"
        },
        "outputId": "2ed31413-c872-4ef7-af4b-256fca22fa64"
      },
      "source": [
        "try\n",
        "    using CUDA\n",
        "catch\n",
        "    println(\"No GPU found.\")\n",
        "else\n",
        "    run(`nvidia-smi`)\n",
        "    # Create a new random matrix directly on the GPU:\n",
        "    M_on_gpu = CUDA.CURAND.rand(2^11, 2^11)\n",
        "    @btime $M_on_gpu * $M_on_gpu; nothing\n",
        "end"
      ],
      "execution_count": 3,
      "outputs": [
        {
          "output_type": "stream",
          "name": "stdout",
          "text": [
            "No GPU found.\n"
          ]
        }
      ]
    },
    {
      "cell_type": "code",
      "source": [
        "using ColorSchemes\n",
        "using ColorTypes\n",
        "using FileIO\n",
        "using Images\n",
        "using Colors\n",
        "using ImageContrastAdjustment\n",
        "using Statistics\n",
        "using StatsBase\n",
        "using Distributions\n",
        "\n",
        "function process_c!(counts, c, max_iter, xmin, xmax, ymin, ymax, x_scale, y_scale, width, height)\n",
        "    z = 0.0 + 0.0im\n",
        "    escaped = false\n",
        "    iter_steps = 0\n",
        "\n",
        "    # First determine if the point escapes and how many steps it takes\n",
        "    for i in 1:max_iter\n",
        "        z = z^2 + c\n",
        "        iter_steps += 1\n",
        "        if abs2(z) > 4.0\n",
        "            escaped = true\n",
        "            break\n",
        "        end\n",
        "    end\n",
        "\n",
        "    # Only process points that escape\n",
        "    escaped || return\n",
        "\n",
        "    # Store the trajectory\n",
        "    trajectory = Vector{Complex{Float64}}(undef, iter_steps)\n",
        "\n",
        "    # Reset and compute the trajectory\n",
        "    z = 0.0 + 0.0im\n",
        "    for i in 1:iter_steps\n",
        "        z = z^2 + c\n",
        "        trajectory[i] = z\n",
        "    end\n",
        "\n",
        "    # Plot the trajectory with anti-aliasing for smoother results\n",
        "    for z in trajectory\n",
        "        x, y = real(z), imag(z)\n",
        "        if xmin <= x <= xmax && ymin <= y <= ymax\n",
        "            # Convert to image coordinates\n",
        "            px_exact = (x - xmin) * x_scale\n",
        "            py_exact = (ymax - y) * y_scale\n",
        "\n",
        "            # Integer parts\n",
        "            px_int = floor(Int, px_exact)\n",
        "            py_int = floor(Int, py_exact)\n",
        "\n",
        "            # Fractional parts for anti-aliasing\n",
        "            fx = px_exact - px_int\n",
        "            fy = py_exact - py_int\n",
        "\n",
        "            # Contribute to the four surrounding pixels weighted by distance\n",
        "            for dx in 0:1\n",
        "                for dy in 0:1\n",
        "                    px = px_int + dx + 1\n",
        "                    py = py_int + dy + 1\n",
        "\n",
        "                    # Weight by distance (bilinear interpolation)\n",
        "                    weight = (dx == 0 ? 1-fx : fx) * (dy == 0 ? 1-fy : fy)\n",
        "\n",
        "                    if 1 <= px <= width && 1 <= py <= height\n",
        "                        @inbounds counts[py, px] += weight\n",
        "                    end\n",
        "                end\n",
        "            end\n",
        "        end\n",
        "    end\n",
        "end\n",
        "\n",
        "function buddhabrot()\n",
        "    # Higher resolution for more detail\n",
        "    width, height = 2000, 2000\n",
        "\n",
        "    # Adjust the view area to focus on interesting parts\n",
        "    xmin, xmax = -2.0, 1.0\n",
        "    ymin, ymax = -1.5, 1.5\n",
        "\n",
        "    # Increase iterations for finer detail\n",
        "    max_iter = 500000\n",
        "\n",
        "    # Smart sampling for more efficiency\n",
        "    n_samples = 10000000\n",
        "\n",
        "    x_scale = (width - 1) / (xmax - xmin)\n",
        "    y_scale = (height - 1) / (ymax - ymin)\n",
        "\n",
        "    # Use Float64 for counts to support anti-aliasing\n",
        "    counts = zeros(Float64, height, width)\n",
        "\n",
        "    println(\"Starting sampling...\")\n",
        "\n",
        "    # More efficient sampling focusing on the boundary of the Mandelbrot set\n",
        "    for i in 1:n_samples\n",
        "        # Focus sampling around the boundary of the Mandelbrot set\n",
        "        if rand() < 0.7  # 70% of samples near the boundary\n",
        "            # Sample from regions known to have interesting detail\n",
        "            r = 0.1 + 0.9 * rand()  # radius between 0.1 and 1.0\n",
        "            theta = 2π * rand()     # angle between 0 and 2π\n",
        "\n",
        "            # Convert to Cartesian coordinates around the main cardioid\n",
        "            cx = r * cos(theta) - 0.25\n",
        "            cy = r * sin(theta)\n",
        "\n",
        "            # Apply some jitter to avoid regular patterns\n",
        "            cx += 0.2 * (rand() - 0.5)\n",
        "            cy += 0.2 * (rand() - 0.5)\n",
        "        else\n",
        "            # Regular sampling for the rest\n",
        "            cx = rand() * (xmax - xmin) + xmin\n",
        "            cy = rand() * (ymax - ymin) + ymin\n",
        "        end\n",
        "\n",
        "        c = complex(cx, cy)\n",
        "        process_c!(counts, c, max_iter, xmin, xmax, ymin, ymax, x_scale, y_scale, width, height)\n",
        "\n",
        "        # Progress update\n",
        "        if i % 1000000 == 0\n",
        "            println(\"Processed $i samples...\")\n",
        "        end\n",
        "    end\n",
        "\n",
        "    println(\"Processing complete. Generating image...\")\n",
        "\n",
        "    # Apply advanced histogram equalization for more detail\n",
        "    # First get a more aggressive log transform\n",
        "    log_counts = log.(counts .+ 1)\n",
        "\n",
        "    # Apply histogram equalization to bring out details\n",
        "    equalized = adjust_histogram(log_counts, Equalization(nbins = 2^16))\n",
        "\n",
        "    # Apply additional contrast stretching\n",
        "    enhanced = adjust_contrast(equalized, LinearStretching())\n",
        "\n",
        "    # Orion Nebula inspired gradient with finer gradations\n",
        "    orion_nebula_gradient = [\n",
        "        RGB(0.0, 0.0, 0.05),      # Deep space black with hint of blue\n",
        "        RGB(0.05, 0.02, 0.1),     # Very dark purple\n",
        "        RGB(0.1, 0.05, 0.2),      # Dark purple\n",
        "        RGB(0.15, 0.03, 0.25),    # Intermediate\n",
        "        RGB(0.2, 0.0, 0.3),       # Deep magenta\n",
        "        RGB(0.3, 0.0, 0.35),      # Intermediate\n",
        "        RGB(0.4, 0.0, 0.4),       # Rich purple\n",
        "        RGB(0.5, 0.05, 0.35),     # Intermediate\n",
        "        RGB(0.6, 0.1, 0.3),       # Dark reddish purple\n",
        "        RGB(0.7, 0.15, 0.25),     # Intermediate\n",
        "        RGB(0.8, 0.2, 0.2),       # Deep red\n",
        "        RGB(0.9, 0.3, 0.15),      # Intermediate\n",
        "        RGB(1.0, 0.4, 0.1),       # Bright orange/red\n",
        "        RGB(1.0, 0.5, 0.2),       # Intermediate\n",
        "        RGB(1.0, 0.6, 0.3),       # Golden orange\n",
        "        RGB(0.95, 0.7, 0.45),     # Intermediate\n",
        "        RGB(0.9, 0.8, 0.6),       # Pale yellow\n",
        "        RGB(0.8, 0.85, 0.7),      # Intermediate\n",
        "        RGB(0.7, 0.9, 0.8),       # Cyan/turquoise highlights\n",
        "        RGB(0.85, 0.95, 0.9),     # Intermediate\n",
        "        RGB(1.0, 1.0, 1.0)        # Brilliant white for stars\n",
        "    ]\n",
        "\n",
        "    # Create a smoother gradient with fine transitions\n",
        "    nebula = orion_nebula_gradient\n",
        "\n",
        "    # Map the normalized values to color indices with smoother interpolation\n",
        "    normalized = channelview(enhanced)\n",
        "    normalized_clipped = clamp.(normalized, 0.0, 1.0)\n",
        "\n",
        "    # Scale to gradient length with floating point precision (for smoother color transitions)\n",
        "    color_indices_float = normalized_clipped .* (length(nebula) - 1) .+ 1\n",
        "\n",
        "    # Create the color image using color interpolation\n",
        "    color_image = Array{RGB{Float64}}(undef, size(normalized_clipped)...)\n",
        "\n",
        "    for i in eachindex(normalized_clipped)\n",
        "        idx_float = color_indices_float[i]\n",
        "        idx_low = floor(Int, idx_float)\n",
        "        idx_high = ceil(Int, idx_float)\n",
        "\n",
        "        # Ensure indices are within bounds\n",
        "        idx_low = clamp(idx_low, 1, length(nebula))\n",
        "        idx_high = clamp(idx_high, 1, length(nebula))\n",
        "\n",
        "        # Get interpolation factor\n",
        "        t = idx_float - idx_low\n",
        "\n",
        "        # Interpolate colors for smoother gradients\n",
        "        if idx_low == idx_high\n",
        "            color_image[i] = nebula[idx_low]\n",
        "        else\n",
        "            color_low = nebula[idx_low]\n",
        "            color_high = nebula[idx_high]\n",
        "\n",
        "            # Linear interpolation between colors\n",
        "            r = (1-t) * color_low.r + t * color_high.r\n",
        "            g = (1-t) * color_low.g + t * color_high.g\n",
        "            b = (1-t) * color_low.b + t * color_high.b\n",
        "\n",
        "            color_image[i] = RGB(r, g, b)\n",
        "        end\n",
        "    end\n",
        "\n",
        "    # Apply slight sharpening for enhanced detail\n",
        "    sharpened = imfilter(color_image, Kernel.gaussian(0.5))\n",
        "\n",
        "    println(\"Saving image...\")\n",
        "    # Save both the original and a high-quality version\n",
        "    save(\"buddhabrot_orion_detailed.png\", transpose(color_image))\n",
        "    save(\"buddhabrot_orion_detailed_sharp.png\", transpose(sharpened))\n",
        "\n",
        "    println(\"Done!\")\n",
        "end\n",
        "\n",
        "buddhabrot()"
      ],
      "metadata": {
        "id": "Bnhe7fd4YRgH",
        "outputId": "32004719-7d02-44e8-967b-b31c441af47e",
        "colab": {
          "base_uri": "https://localhost:8080/",
          "height": 102
        }
      },
      "execution_count": 3,
      "outputs": [
        {
          "output_type": "error",
          "ename": "SyntaxError",
          "evalue": "invalid decimal literal (<ipython-input-3-79e9067e455e>, line 12)",
          "traceback": [
            "\u001b[0;36m  File \u001b[0;32m\"<ipython-input-3-79e9067e455e>\"\u001b[0;36m, line \u001b[0;32m12\u001b[0m\n\u001b[0;31m    z = 0.0 + 0.0im\u001b[0m\n\u001b[0m                ^\u001b[0m\n\u001b[0;31mSyntaxError\u001b[0m\u001b[0;31m:\u001b[0m invalid decimal literal\n"
          ]
        }
      ]
    },
    {
      "cell_type": "code",
      "source": [
        "!julia"
      ],
      "metadata": {
        "collapsed": true,
        "id": "RDHe2y3QYUbW",
        "outputId": "6e99c1ab-d19a-400c-b06c-ff6a755b2137",
        "colab": {
          "base_uri": "https://localhost:8080/"
        }
      },
      "execution_count": 4,
      "outputs": [
        {
          "output_type": "stream",
          "name": "stdout",
          "text": [
            "/bin/bash: line 1: julia: command not found\n"
          ]
        }
      ]
    },
    {
      "cell_type": "markdown",
      "metadata": {
        "id": "8RC1QNNqk6h1"
      },
      "source": [
        "# Need Help?\n",
        "\n",
        "* Learning: https://julialang.org/learning/\n",
        "* Documentation: https://docs.julialang.org/\n",
        "* Questions & Discussions:\n",
        "  * https://discourse.julialang.org/\n",
        "  * http://julialang.slack.com/\n",
        "  * https://stackoverflow.com/questions/tagged/julia\n",
        "\n",
        "If you ever ask for help or file an issue about Julia, you should generally provide the output of `versioninfo()`."
      ]
    },
    {
      "cell_type": "markdown",
      "metadata": {
        "id": "2UMidUQB03vJ"
      },
      "source": [
        "Add new code cells by clicking the `+ Code` button (or _Insert_ > _Code cell_).\n",
        "\n",
        "Have fun!\n",
        "\n",
        "<img src=\"https://raw.githubusercontent.com/JuliaLang/julia-logo-graphics/master/images/julia-logo-mask.png\" height=\"100\" />"
      ]
    }
  ]
}